{
 "cells": [
  {
   "cell_type": "code",
   "execution_count": null,
   "metadata": {},
   "outputs": [],
   "source": [
    "# Note that this code must be run from python3 or ipython3 in a session's \n",
    "# terminal, not run directly in the graphical console. See\n",
    "# https://github.com/dask/dask/issues/4612\n",
    "\n",
    "import cdsw_dask_utils\n",
    "import cdsw\n",
    "import numpy as np\n",
    "import pandas as pd"
   ]
  },
  {
   "cell_type": "code",
   "execution_count": null,
   "metadata": {},
   "outputs": [],
   "source": [
    "# #1. Load the data (From File )\n",
    "input_file = \"data/WineNewGBTDataSet.csv\"\n",
    "col_Names=[\"fixedAcidity\",\n",
    "    \"volatileAcidity\",\n",
    "    \"citricAcid\",\n",
    "    \"residualSugar\",\n",
    "    \"chlorides\",\n",
    "    \"freeSulfurDioxide\",\n",
    "    \"totalSulfurDioxide\",\n",
    "    \"density\",\n",
    "    \"pH\",\n",
    "    \"sulphates\",\n",
    "    \"Alcohol\",\n",
    "    \"Quality\"]\n",
    "\n",
    "\n",
    "wine_df = pd.read_csv(input_file,sep=\";\",header=None, names=col_Names)\n",
    "wine_df.head()"
   ]
  },
  {
   "cell_type": "code",
   "execution_count": null,
   "metadata": {},
   "outputs": [],
   "source": [
    "# #### Cleanup - Remove invalid data\n",
    "wine_df.Quality.replace('1',\"Excellent\",inplace=True)\n",
    "\n",
    "# ### encode labels \n",
    "wine_df.Quality = pd.Categorical(wine_df.Quality)\n",
    "wine_df['Label'] = wine_df.Quality.cat.codes\n",
    "wine_df.head()\n"
   ]
  },
  {
   "cell_type": "code",
   "execution_count": null,
   "metadata": {},
   "outputs": [],
   "source": [
    "# # 2. Build a classification model using MLLib\n",
    "# ### Split Test/Train\n",
    "from sklearn.model_selection import train_test_split\n",
    "X_train, X_test, y_train, y_test = train_test_split(wine_df.iloc[:,:11],\n",
    "                                                    wine_df['Label'], \n",
    "                                                    test_size=0.2, \n",
    "                                                    random_state=30)\n",
    "\n"
   ]
  },
  {
   "cell_type": "code",
   "execution_count": null,
   "metadata": {},
   "outputs": [],
   "source": [
    "from sklearn.ensemble import RandomForestClassifier\n",
    "from sklearn.model_selection import GridSearchCV\n",
    "\n",
    "# ### parameters for grid search\n",
    "param_numTrees = list(range(10,50,5))\n",
    "param_maxDepth = list(range(4,16,2))\n",
    "\n",
    "rfc = RandomForestClassifier(random_state=10, n_jobs=-1)\n",
    "\n",
    "GS_params = { \n",
    "    'n_estimators': param_numTrees,\n",
    "    'max_depth' : param_maxDepth\n",
    "}\n",
    "\n",
    "CV_rfc = GridSearchCV(estimator=rfc, \n",
    "                      param_grid=GS_params, \n",
    "                      cv= 3,\n",
    "                      verbose = 1,\n",
    "                      n_jobs=-1)"
   ]
  },
  {
   "cell_type": "code",
   "execution_count": null,
   "metadata": {},
   "outputs": [],
   "source": [
    "CV_rfc.fit(X_train, y_train)"
   ]
  },
  {
   "cell_type": "code",
   "execution_count": null,
   "metadata": {},
   "outputs": [],
   "source": [
    "# ### Show Best Parameters \n",
    "print(CV_rfc.best_params_)"
   ]
  },
  {
   "cell_type": "code",
   "execution_count": null,
   "metadata": {},
   "outputs": [],
   "source": []
  },
  {
   "cell_type": "code",
   "execution_count": null,
   "metadata": {},
   "outputs": [],
   "source": [
    "# Run a Dask cluster with three workers and return an object containing\n",
    "# a description of the cluster. \n",
    "# \n",
    "# Using helper library \n",
    "#\n",
    "# Note that the scheduler will run in the current session, and the Dask\n",
    "# dashboard will become available in the nine-dot menu at the upper\n",
    "# right corner of the CDSW app.\n",
    "\n",
    "cluster = cdsw_dask_utils.run_dask_cluster(\n",
    "  n=3, \\\n",
    "  cpu=1, \\\n",
    "  memory=2, \\\n",
    "  nvidia_gpu=0\n",
    ")"
   ]
  },
  {
   "cell_type": "code",
   "execution_count": null,
   "metadata": {},
   "outputs": [],
   "source": [
    "#Get the Dask Scheduler UI\n",
    "import os \n",
    "engine_id = os.environ.get('CDSW_ENGINE_ID')\n",
    "cdsw_domain = os.environ.get('CDSW_DOMAIN')\n",
    "\n",
    "from IPython.core.display import HTML\n",
    "HTML('<a  target=\"_blank\" rel=\"noopener noreferrer\" href=\"http://read-only-{}.{}\">http://read-only-{}.{}</a>'\n",
    "     .format(engine_id,cdsw_domain,engine_id,cdsw_domain))"
   ]
  },
  {
   "cell_type": "code",
   "execution_count": null,
   "metadata": {},
   "outputs": [],
   "source": [
    "# #### Connect a Dask client to the scheduler address in the cluster\n",
    "\n",
    "from dask.distributed import Client\n",
    "client = Client(cluster[\"scheduler_address\"])"
   ]
  },
  {
   "cell_type": "code",
   "execution_count": null,
   "metadata": {},
   "outputs": [],
   "source": [
    "## print dask cluster config \n",
    "\n",
    "import json\n",
    "print(json.dumps(client.scheduler_info(), indent=4))"
   ]
  },
  {
   "cell_type": "code",
   "execution_count": null,
   "metadata": {},
   "outputs": [],
   "source": [
    "# ### Fit Model with Dask\n",
    "from joblib import Parallel, parallel_backend\n",
    "with parallel_backend('dask'):\n",
    "  CV_rfc.fit(X_train, y_train)"
   ]
  },
  {
   "cell_type": "code",
   "execution_count": null,
   "metadata": {},
   "outputs": [],
   "source": [
    "# ### Show Best Parameters \n",
    "print(CV_rfc.best_params_)"
   ]
  },
  {
   "cell_type": "code",
   "execution_count": null,
   "metadata": {},
   "outputs": [],
   "source": []
  },
  {
   "cell_type": "code",
   "execution_count": null,
   "metadata": {},
   "outputs": [],
   "source": []
  }
 ],
 "metadata": {
  "kernelspec": {
   "display_name": "Python 3",
   "language": "python",
   "name": "python3"
  },
  "language_info": {
   "codemirror_mode": {
    "name": "ipython",
    "version": 3
   },
   "file_extension": ".py",
   "mimetype": "text/x-python",
   "name": "python",
   "nbconvert_exporter": "python",
   "pygments_lexer": "ipython3",
   "version": "3.6.8"
  }
 },
 "nbformat": 4,
 "nbformat_minor": 2
}
