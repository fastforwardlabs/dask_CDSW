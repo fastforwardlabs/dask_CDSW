{
 "cells": [
  {
   "cell_type": "code",
   "execution_count": 8,
   "metadata": {},
   "outputs": [
    {
     "name": "stdout",
     "output_type": "stream",
     "text": [
      "Waiting for Dask scheduler to become ready...\n",
      "Dask scheduler is ready\n",
      "IDs ['j93dtr1znp6uh79n', 'gi33ptodd9n8fkby']\n"
     ]
    }
   ],
   "source": [
    "# Note that this code must be run from python3 or ipython3 in a session's \n",
    "# terminal, not run directly in the graphical console. See\n",
    "# https://github.com/dask/dask/issues/4612\n",
    "\n",
    "import cdsw_dask_utils\n",
    "\n",
    "# Run a Dask cluster with three workers and return an object containing\n",
    "# a description of the cluster. \n",
    "# \n",
    "# Note that the scheduler will run in the current session, and the Dask\n",
    "# dashboard will become available in the nine-dot menu at the upper\n",
    "# right corner of the CDSW app.\n",
    "\n",
    "cluster = cdsw_dask_utils.run_dask_cluster(\n",
    "  n=2, \\\n",
    "  cpu=1, \\\n",
    "  memory=1, \\\n",
    "  nvidia_gpu=0\n",
    ")\n",
    "\n",
    "# Connect a Dask client to the scheduler address in the cluster\n",
    "# description.\n",
    "from dask.distributed import Client\n",
    "client = Client(cluster[\"scheduler_address\"])"
   ]
  },
  {
   "cell_type": "code",
   "execution_count": 9,
   "metadata": {},
   "outputs": [
    {
     "name": "stdout",
     "output_type": "stream",
     "text": [
      "{\n",
      "    \"type\": \"Scheduler\",\n",
      "    \"id\": \"Scheduler-1a75fbb7-4d8d-493e-80f0-6acf850e9ab3\",\n",
      "    \"address\": \"tcp://100.66.0.29:2323\",\n",
      "    \"services\": {\n",
      "        \"dashboard\": 8100\n",
      "    },\n",
      "    \"workers\": {\n",
      "        \"tcp://100.66.0.30:33180\": {\n",
      "            \"type\": \"Worker\",\n",
      "            \"id\": \"tcp://100.66.0.30:33180\",\n",
      "            \"host\": \"100.66.0.30\",\n",
      "            \"resources\": {},\n",
      "            \"local_directory\": \"/home/cdsw/worker-3af395dz\",\n",
      "            \"name\": \"tcp://100.66.0.30:33180\",\n",
      "            \"nthreads\": 8,\n",
      "            \"memory_limit\": 999997440,\n",
      "            \"last_seen\": 1574618625.0477657,\n",
      "            \"services\": {\n",
      "                \"dashboard\": 36732\n",
      "            },\n",
      "            \"metrics\": {\n",
      "                \"cpu\": 2.0,\n",
      "                \"memory\": 101642240,\n",
      "                \"time\": 1574618624.316903,\n",
      "                \"read_bytes\": 1909.0223455433304,\n",
      "                \"write_bytes\": 2846.542219951521,\n",
      "                \"num_fds\": 27,\n",
      "                \"executing\": 0,\n",
      "                \"in_memory\": 10,\n",
      "                \"ready\": 0,\n",
      "                \"in_flight\": 0,\n",
      "                \"bandwidth\": {\n",
      "                    \"total\": 100000000,\n",
      "                    \"workers\": {},\n",
      "                    \"types\": {}\n",
      "                }\n",
      "            },\n",
      "            \"nanny\": \"tcp://100.66.0.30:38506\"\n",
      "        },\n",
      "        \"tcp://100.66.0.31:33345\": {\n",
      "            \"type\": \"Worker\",\n",
      "            \"id\": \"tcp://100.66.0.31:33345\",\n",
      "            \"host\": \"100.66.0.31\",\n",
      "            \"resources\": {},\n",
      "            \"local_directory\": \"/home/cdsw/worker-72y9j7sg\",\n",
      "            \"name\": \"tcp://100.66.0.31:33345\",\n",
      "            \"nthreads\": 8,\n",
      "            \"memory_limit\": 999997440,\n",
      "            \"last_seen\": 1574618625.0568304,\n",
      "            \"services\": {\n",
      "                \"dashboard\": 40703\n",
      "            },\n",
      "            \"metrics\": {\n",
      "                \"cpu\": 2.0,\n",
      "                \"memory\": 101683200,\n",
      "                \"time\": 1574618624.5082984,\n",
      "                \"read_bytes\": 1646.2661152902047,\n",
      "                \"write_bytes\": 2170.3508324299783,\n",
      "                \"num_fds\": 27,\n",
      "                \"executing\": 0,\n",
      "                \"in_memory\": 16,\n",
      "                \"ready\": 0,\n",
      "                \"in_flight\": 0,\n",
      "                \"bandwidth\": {\n",
      "                    \"total\": 100000000,\n",
      "                    \"workers\": {},\n",
      "                    \"types\": {}\n",
      "                }\n",
      "            },\n",
      "            \"nanny\": \"tcp://100.66.0.31:36168\"\n",
      "        }\n",
      "    }\n",
      "}\n"
     ]
    }
   ],
   "source": [
    "import time \n",
    "time.sleep(10)\n",
    "import json\n",
    "print(json.dumps(client.scheduler_info(), indent=4))"
   ]
  },
  {
   "cell_type": "code",
   "execution_count": null,
   "metadata": {},
   "outputs": [],
   "source": [
    "def square(x):\n",
    "  return x ** 2\n",
    "\n",
    "def neg(x):\n",
    "  return -x"
   ]
  },
  {
   "cell_type": "code",
   "execution_count": null,
   "metadata": {},
   "outputs": [],
   "source": [
    "A = client.map(square, range(10))\n",
    "print(client.gather(A))"
   ]
  },
  {
   "cell_type": "code",
   "execution_count": null,
   "metadata": {
    "scrolled": true
   },
   "outputs": [],
   "source": [
    "B = client.map(neg, A)\n",
    "print(client.gather(B))"
   ]
  },
  {
   "cell_type": "code",
   "execution_count": null,
   "metadata": {},
   "outputs": [],
   "source": [
    "total = client.submit(sum, B)\n",
    "print(\"Result: \", total.result())"
   ]
  },
  {
   "cell_type": "code",
   "execution_count": null,
   "metadata": {},
   "outputs": [],
   "source": [
    "total"
   ]
  },
  {
   "cell_type": "code",
   "execution_count": 10,
   "metadata": {},
   "outputs": [
    {
     "data": {
      "text/plain": [
       "'100.66.0.29:2323'"
      ]
     },
     "execution_count": 10,
     "metadata": {},
     "output_type": "execute_result"
    }
   ],
   "source": [
    "cluster"
   ]
  },
  {
   "cell_type": "code",
   "execution_count": null,
   "metadata": {},
   "outputs": [],
   "source": []
  }
 ],
 "metadata": {
  "kernelspec": {
   "display_name": "Python 3",
   "language": "python",
   "name": "python3"
  },
  "language_info": {
   "codemirror_mode": {
    "name": "ipython",
    "version": 3
   },
   "file_extension": ".py",
   "mimetype": "text/x-python",
   "name": "python",
   "nbconvert_exporter": "python",
   "pygments_lexer": "ipython3",
   "version": "3.6.8"
  }
 },
 "nbformat": 4,
 "nbformat_minor": 2
}
